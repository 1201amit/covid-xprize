{
 "cells": [
  {
   "cell_type": "code",
   "execution_count": 1,
   "metadata": {},
   "outputs": [
    {
     "name": "stderr",
     "output_type": "stream",
     "text": [
      "Using Theano backend.\n"
     ]
    }
   ],
   "source": [
    "import numpy as np\n",
    "import pandas as pd\n",
    "from keras.models import Model, load_model"
   ]
  },
  {
   "cell_type": "markdown",
   "metadata": {},
   "source": [
    "# Load data set"
   ]
  },
  {
   "cell_type": "code",
   "execution_count": 4,
   "metadata": {},
   "outputs": [],
   "source": [
    "LATEST_DATA_URL = 'https://raw.githubusercontent.com/OxCGRT/covid-policy-tracker/master/data/OxCGRT_latest.csv'\n",
    "LOCAL_DATA_URL = \"tests/fixtures/OxCGRT_latest.csv\""
   ]
  },
  {
   "cell_type": "code",
   "execution_count": 6,
   "metadata": {},
   "outputs": [],
   "source": [
    "def load_dataset(url):\n",
    "    latest_df = pd.read_csv(url,\n",
    "                            parse_dates=['Date'],\n",
    "                            encoding=\"ISO-8859-1\",\n",
    "                            error_bad_lines=False)\n",
    "    # Handle regions\n",
    "    latest_df[\"RegionName\"].fillna('', inplace=True)\n",
    "    # Replace CountryName by CountryName / RegionName\n",
    "    # np.where usage: if A then B else C\n",
    "    latest_df[\"CountryName\"] = np.where(latest_df[\"RegionName\"] == '',\n",
    "                                        latest_df[\"CountryName\"],\n",
    "                                        latest_df[\"CountryName\"] + ' / ' + latest_df[\"RegionName\"])\n",
    "    return latest_df"
   ]
  },
  {
   "cell_type": "code",
   "execution_count": 7,
   "metadata": {},
   "outputs": [
    {
     "name": "stderr",
     "output_type": "stream",
     "text": [
      "/Users/m_754337/workspace/esp-demo/venv/lib/python3.7/site-packages/IPython/core/interactiveshell.py:3254: DtypeWarning: Columns (2,3) have mixed types.Specify dtype option on import or set low_memory=False.\n",
      "  if (await self.run_code(code, result,  async_=asy)):\n"
     ]
    }
   ],
   "source": [
    "latest_df = load_dataset(LATEST_DATA_URL)"
   ]
  },
  {
   "cell_type": "code",
   "execution_count": 11,
   "metadata": {},
   "outputs": [
    {
     "data": {
      "text/html": [
       "<div>\n",
       "<style scoped>\n",
       "    .dataframe tbody tr th:only-of-type {\n",
       "        vertical-align: middle;\n",
       "    }\n",
       "\n",
       "    .dataframe tbody tr th {\n",
       "        vertical-align: top;\n",
       "    }\n",
       "\n",
       "    .dataframe thead th {\n",
       "        text-align: right;\n",
       "    }\n",
       "</style>\n",
       "<table border=\"1\" class=\"dataframe\">\n",
       "  <thead>\n",
       "    <tr style=\"text-align: right;\">\n",
       "      <th></th>\n",
       "      <th>CountryName</th>\n",
       "      <th>CountryCode</th>\n",
       "      <th>RegionName</th>\n",
       "      <th>RegionCode</th>\n",
       "      <th>Date</th>\n",
       "      <th>C1_School closing</th>\n",
       "      <th>C1_Flag</th>\n",
       "      <th>C2_Workplace closing</th>\n",
       "      <th>C2_Flag</th>\n",
       "      <th>C3_Cancel public events</th>\n",
       "      <th>...</th>\n",
       "      <th>StringencyIndex</th>\n",
       "      <th>StringencyIndexForDisplay</th>\n",
       "      <th>StringencyLegacyIndex</th>\n",
       "      <th>StringencyLegacyIndexForDisplay</th>\n",
       "      <th>GovernmentResponseIndex</th>\n",
       "      <th>GovernmentResponseIndexForDisplay</th>\n",
       "      <th>ContainmentHealthIndex</th>\n",
       "      <th>ContainmentHealthIndexForDisplay</th>\n",
       "      <th>EconomicSupportIndex</th>\n",
       "      <th>EconomicSupportIndexForDisplay</th>\n",
       "    </tr>\n",
       "  </thead>\n",
       "  <tbody>\n",
       "    <tr>\n",
       "      <th>8418</th>\n",
       "      <td>Cameroon</td>\n",
       "      <td>CMR</td>\n",
       "      <td></td>\n",
       "      <td>NaN</td>\n",
       "      <td>2020-08-12</td>\n",
       "      <td>2.0</td>\n",
       "      <td>1.0</td>\n",
       "      <td>0.0</td>\n",
       "      <td>NaN</td>\n",
       "      <td>2.0</td>\n",
       "      <td>...</td>\n",
       "      <td>60.19</td>\n",
       "      <td>60.19</td>\n",
       "      <td>72.62</td>\n",
       "      <td>72.62</td>\n",
       "      <td>54.49</td>\n",
       "      <td>54.49</td>\n",
       "      <td>59.85</td>\n",
       "      <td>59.85</td>\n",
       "      <td>25.0</td>\n",
       "      <td>25.0</td>\n",
       "    </tr>\n",
       "    <tr>\n",
       "      <th>3098</th>\n",
       "      <td>Belgium</td>\n",
       "      <td>BEL</td>\n",
       "      <td></td>\n",
       "      <td>NaN</td>\n",
       "      <td>2020-07-25</td>\n",
       "      <td>1.0</td>\n",
       "      <td>0.0</td>\n",
       "      <td>2.0</td>\n",
       "      <td>1.0</td>\n",
       "      <td>2.0</td>\n",
       "      <td>...</td>\n",
       "      <td>48.15</td>\n",
       "      <td>48.15</td>\n",
       "      <td>53.57</td>\n",
       "      <td>53.57</td>\n",
       "      <td>55.77</td>\n",
       "      <td>55.77</td>\n",
       "      <td>54.55</td>\n",
       "      <td>54.55</td>\n",
       "      <td>62.5</td>\n",
       "      <td>62.5</td>\n",
       "    </tr>\n",
       "    <tr>\n",
       "      <th>38604</th>\n",
       "      <td>Sweden</td>\n",
       "      <td>SWE</td>\n",
       "      <td></td>\n",
       "      <td>NaN</td>\n",
       "      <td>2020-02-14</td>\n",
       "      <td>0.0</td>\n",
       "      <td>NaN</td>\n",
       "      <td>0.0</td>\n",
       "      <td>NaN</td>\n",
       "      <td>0.0</td>\n",
       "      <td>...</td>\n",
       "      <td>0.00</td>\n",
       "      <td>0.00</td>\n",
       "      <td>0.00</td>\n",
       "      <td>0.00</td>\n",
       "      <td>10.26</td>\n",
       "      <td>10.26</td>\n",
       "      <td>12.12</td>\n",
       "      <td>12.12</td>\n",
       "      <td>0.0</td>\n",
       "      <td>0.0</td>\n",
       "    </tr>\n",
       "  </tbody>\n",
       "</table>\n",
       "<p>3 rows × 44 columns</p>\n",
       "</div>"
      ],
      "text/plain": [
       "      CountryName CountryCode RegionName RegionCode       Date  \\\n",
       "8418     Cameroon         CMR                   NaN 2020-08-12   \n",
       "3098      Belgium         BEL                   NaN 2020-07-25   \n",
       "38604      Sweden         SWE                   NaN 2020-02-14   \n",
       "\n",
       "       C1_School closing  C1_Flag  C2_Workplace closing  C2_Flag  \\\n",
       "8418                 2.0      1.0                   0.0      NaN   \n",
       "3098                 1.0      0.0                   2.0      1.0   \n",
       "38604                0.0      NaN                   0.0      NaN   \n",
       "\n",
       "       C3_Cancel public events  ...  StringencyIndex  \\\n",
       "8418                       2.0  ...            60.19   \n",
       "3098                       2.0  ...            48.15   \n",
       "38604                      0.0  ...             0.00   \n",
       "\n",
       "       StringencyIndexForDisplay  StringencyLegacyIndex  \\\n",
       "8418                       60.19                  72.62   \n",
       "3098                       48.15                  53.57   \n",
       "38604                       0.00                   0.00   \n",
       "\n",
       "       StringencyLegacyIndexForDisplay  GovernmentResponseIndex  \\\n",
       "8418                             72.62                    54.49   \n",
       "3098                             53.57                    55.77   \n",
       "38604                             0.00                    10.26   \n",
       "\n",
       "       GovernmentResponseIndexForDisplay  ContainmentHealthIndex  \\\n",
       "8418                               54.49                   59.85   \n",
       "3098                               55.77                   54.55   \n",
       "38604                              10.26                   12.12   \n",
       "\n",
       "       ContainmentHealthIndexForDisplay  EconomicSupportIndex  \\\n",
       "8418                              59.85                  25.0   \n",
       "3098                              54.55                  62.5   \n",
       "38604                             12.12                   0.0   \n",
       "\n",
       "       EconomicSupportIndexForDisplay  \n",
       "8418                             25.0  \n",
       "3098                             62.5  \n",
       "38604                             0.0  \n",
       "\n",
       "[3 rows x 44 columns]"
      ]
     },
     "execution_count": 11,
     "metadata": {},
     "output_type": "execute_result"
    }
   ],
   "source": [
    "latest_df.sample(3)"
   ]
  },
  {
   "cell_type": "markdown",
   "metadata": {},
   "source": [
    "# Get NPIs"
   ]
  },
  {
   "cell_type": "code",
   "execution_count": 8,
   "metadata": {},
   "outputs": [],
   "source": [
    "NPI_COLUMNS = ['C1_School closing',\n",
    "               'C2_Workplace closing',\n",
    "               'C3_Cancel public events',\n",
    "               'C4_Restrictions on gatherings',\n",
    "               'C5_Close public transport',\n",
    "               'C6_Stay at home requirements',\n",
    "               'C7_Restrictions on internal movement',\n",
    "               'C8_International travel controls',\n",
    "               'H1_Public information campaigns',\n",
    "               'H2_Testing policy',\n",
    "               'H3_Contact tracing']"
   ]
  },
  {
   "cell_type": "code",
   "execution_count": 13,
   "metadata": {},
   "outputs": [],
   "source": [
    "npis_df = latest_df[[\"CountryName\", \"Date\"] + NPI_COLUMNS]"
   ]
  },
  {
   "cell_type": "code",
   "execution_count": 14,
   "metadata": {},
   "outputs": [
    {
     "data": {
      "text/html": [
       "<div>\n",
       "<style scoped>\n",
       "    .dataframe tbody tr th:only-of-type {\n",
       "        vertical-align: middle;\n",
       "    }\n",
       "\n",
       "    .dataframe tbody tr th {\n",
       "        vertical-align: top;\n",
       "    }\n",
       "\n",
       "    .dataframe thead th {\n",
       "        text-align: right;\n",
       "    }\n",
       "</style>\n",
       "<table border=\"1\" class=\"dataframe\">\n",
       "  <thead>\n",
       "    <tr style=\"text-align: right;\">\n",
       "      <th></th>\n",
       "      <th>CountryName</th>\n",
       "      <th>Date</th>\n",
       "      <th>C1_School closing</th>\n",
       "      <th>C2_Workplace closing</th>\n",
       "      <th>C3_Cancel public events</th>\n",
       "      <th>C4_Restrictions on gatherings</th>\n",
       "      <th>C5_Close public transport</th>\n",
       "      <th>C6_Stay at home requirements</th>\n",
       "      <th>C7_Restrictions on internal movement</th>\n",
       "      <th>C8_International travel controls</th>\n",
       "      <th>H1_Public information campaigns</th>\n",
       "      <th>H2_Testing policy</th>\n",
       "      <th>H3_Contact tracing</th>\n",
       "    </tr>\n",
       "  </thead>\n",
       "  <tbody>\n",
       "    <tr>\n",
       "      <th>35192</th>\n",
       "      <td>Saudi Arabia</td>\n",
       "      <td>2020-01-07</td>\n",
       "      <td>0.0</td>\n",
       "      <td>0.0</td>\n",
       "      <td>0.0</td>\n",
       "      <td>0.0</td>\n",
       "      <td>0.0</td>\n",
       "      <td>0.0</td>\n",
       "      <td>0.0</td>\n",
       "      <td>0.0</td>\n",
       "      <td>0.0</td>\n",
       "      <td>0.0</td>\n",
       "      <td>0.0</td>\n",
       "    </tr>\n",
       "    <tr>\n",
       "      <th>21320</th>\n",
       "      <td>Italy</td>\n",
       "      <td>2020-04-22</td>\n",
       "      <td>3.0</td>\n",
       "      <td>3.0</td>\n",
       "      <td>2.0</td>\n",
       "      <td>4.0</td>\n",
       "      <td>2.0</td>\n",
       "      <td>2.0</td>\n",
       "      <td>2.0</td>\n",
       "      <td>3.0</td>\n",
       "      <td>2.0</td>\n",
       "      <td>2.0</td>\n",
       "      <td>2.0</td>\n",
       "    </tr>\n",
       "    <tr>\n",
       "      <th>53331</th>\n",
       "      <td>United States / South Dakota</td>\n",
       "      <td>2020-03-11</td>\n",
       "      <td>0.0</td>\n",
       "      <td>0.0</td>\n",
       "      <td>0.0</td>\n",
       "      <td>0.0</td>\n",
       "      <td>0.0</td>\n",
       "      <td>0.0</td>\n",
       "      <td>2.0</td>\n",
       "      <td>3.0</td>\n",
       "      <td>2.0</td>\n",
       "      <td>1.0</td>\n",
       "      <td>1.0</td>\n",
       "    </tr>\n",
       "  </tbody>\n",
       "</table>\n",
       "</div>"
      ],
      "text/plain": [
       "                        CountryName       Date  C1_School closing  \\\n",
       "35192                  Saudi Arabia 2020-01-07                0.0   \n",
       "21320                         Italy 2020-04-22                3.0   \n",
       "53331  United States / South Dakota 2020-03-11                0.0   \n",
       "\n",
       "       C2_Workplace closing  C3_Cancel public events  \\\n",
       "35192                   0.0                      0.0   \n",
       "21320                   3.0                      2.0   \n",
       "53331                   0.0                      0.0   \n",
       "\n",
       "       C4_Restrictions on gatherings  C5_Close public transport  \\\n",
       "35192                            0.0                        0.0   \n",
       "21320                            4.0                        2.0   \n",
       "53331                            0.0                        0.0   \n",
       "\n",
       "       C6_Stay at home requirements  C7_Restrictions on internal movement  \\\n",
       "35192                           0.0                                   0.0   \n",
       "21320                           2.0                                   2.0   \n",
       "53331                           0.0                                   2.0   \n",
       "\n",
       "       C8_International travel controls  H1_Public information campaigns  \\\n",
       "35192                               0.0                              0.0   \n",
       "21320                               3.0                              2.0   \n",
       "53331                               3.0                              2.0   \n",
       "\n",
       "       H2_Testing policy  H3_Contact tracing  \n",
       "35192                0.0                 0.0  \n",
       "21320                2.0                 2.0  \n",
       "53331                1.0                 1.0  "
      ]
     },
     "execution_count": 14,
     "metadata": {},
     "output_type": "execute_result"
    }
   ],
   "source": [
    "npis_df.sample(3)"
   ]
  },
  {
   "cell_type": "markdown",
   "metadata": {},
   "source": [
    "# Dates"
   ]
  },
  {
   "cell_type": "code",
   "execution_count": 20,
   "metadata": {},
   "outputs": [],
   "source": [
    "start_date = np.datetime64(\"2020-08-01\")"
   ]
  },
  {
   "cell_type": "code",
   "execution_count": 21,
   "metadata": {},
   "outputs": [],
   "source": [
    "end_date = np.datetime64(\"2020-08-04\")"
   ]
  },
  {
   "cell_type": "code",
   "execution_count": 22,
   "metadata": {},
   "outputs": [],
   "source": [
    "actual_npis_df = npis_df[(npis_df.Date >= start_date) & (npis_df.Date <= end_date)]"
   ]
  },
  {
   "cell_type": "code",
   "execution_count": 25,
   "metadata": {},
   "outputs": [
    {
     "data": {
      "text/html": [
       "<div>\n",
       "<style scoped>\n",
       "    .dataframe tbody tr th:only-of-type {\n",
       "        vertical-align: middle;\n",
       "    }\n",
       "\n",
       "    .dataframe tbody tr th {\n",
       "        vertical-align: top;\n",
       "    }\n",
       "\n",
       "    .dataframe thead th {\n",
       "        text-align: right;\n",
       "    }\n",
       "</style>\n",
       "<table border=\"1\" class=\"dataframe\">\n",
       "  <thead>\n",
       "    <tr style=\"text-align: right;\">\n",
       "      <th></th>\n",
       "      <th>CountryName</th>\n",
       "      <th>Date</th>\n",
       "      <th>C1_School closing</th>\n",
       "      <th>C2_Workplace closing</th>\n",
       "      <th>C3_Cancel public events</th>\n",
       "      <th>C4_Restrictions on gatherings</th>\n",
       "      <th>C5_Close public transport</th>\n",
       "      <th>C6_Stay at home requirements</th>\n",
       "      <th>C7_Restrictions on internal movement</th>\n",
       "      <th>C8_International travel controls</th>\n",
       "      <th>H1_Public information campaigns</th>\n",
       "      <th>H2_Testing policy</th>\n",
       "      <th>H3_Contact tracing</th>\n",
       "    </tr>\n",
       "  </thead>\n",
       "  <tbody>\n",
       "    <tr>\n",
       "      <th>21182</th>\n",
       "      <td>Israel</td>\n",
       "      <td>2020-08-03</td>\n",
       "      <td>1.0</td>\n",
       "      <td>1.0</td>\n",
       "      <td>2.0</td>\n",
       "      <td>3.0</td>\n",
       "      <td>1.0</td>\n",
       "      <td>0.0</td>\n",
       "      <td>0.0</td>\n",
       "      <td>4.0</td>\n",
       "      <td>2.0</td>\n",
       "      <td>1.0</td>\n",
       "      <td>1.0</td>\n",
       "    </tr>\n",
       "    <tr>\n",
       "      <th>11060</th>\n",
       "      <td>Djibouti</td>\n",
       "      <td>2020-08-03</td>\n",
       "      <td>2.0</td>\n",
       "      <td>2.0</td>\n",
       "      <td>1.0</td>\n",
       "      <td>3.0</td>\n",
       "      <td>0.0</td>\n",
       "      <td>0.0</td>\n",
       "      <td>0.0</td>\n",
       "      <td>1.0</td>\n",
       "      <td>2.0</td>\n",
       "      <td>3.0</td>\n",
       "      <td>2.0</td>\n",
       "    </tr>\n",
       "    <tr>\n",
       "      <th>12745</th>\n",
       "      <td>Eritrea</td>\n",
       "      <td>2020-08-01</td>\n",
       "      <td>3.0</td>\n",
       "      <td>3.0</td>\n",
       "      <td>2.0</td>\n",
       "      <td>4.0</td>\n",
       "      <td>2.0</td>\n",
       "      <td>2.0</td>\n",
       "      <td>2.0</td>\n",
       "      <td>3.0</td>\n",
       "      <td>2.0</td>\n",
       "      <td>1.0</td>\n",
       "      <td>1.0</td>\n",
       "    </tr>\n",
       "  </tbody>\n",
       "</table>\n",
       "</div>"
      ],
      "text/plain": [
       "      CountryName       Date  C1_School closing  C2_Workplace closing  \\\n",
       "21182      Israel 2020-08-03                1.0                   1.0   \n",
       "11060    Djibouti 2020-08-03                2.0                   2.0   \n",
       "12745     Eritrea 2020-08-01                3.0                   3.0   \n",
       "\n",
       "       C3_Cancel public events  C4_Restrictions on gatherings  \\\n",
       "21182                      2.0                            3.0   \n",
       "11060                      1.0                            3.0   \n",
       "12745                      2.0                            4.0   \n",
       "\n",
       "       C5_Close public transport  C6_Stay at home requirements  \\\n",
       "21182                        1.0                           0.0   \n",
       "11060                        0.0                           0.0   \n",
       "12745                        2.0                           2.0   \n",
       "\n",
       "       C7_Restrictions on internal movement  C8_International travel controls  \\\n",
       "21182                                   0.0                               4.0   \n",
       "11060                                   0.0                               1.0   \n",
       "12745                                   2.0                               3.0   \n",
       "\n",
       "       H1_Public information campaigns  H2_Testing policy  H3_Contact tracing  \n",
       "21182                              2.0                1.0                 1.0  \n",
       "11060                              2.0                3.0                 2.0  \n",
       "12745                              2.0                1.0                 1.0  "
      ]
     },
     "execution_count": 25,
     "metadata": {},
     "output_type": "execute_result"
    }
   ],
   "source": [
    "actual_npis_df.sample(3)"
   ]
  },
  {
   "cell_type": "markdown",
   "metadata": {},
   "source": [
    "# Get actual cases between these dates"
   ]
  },
  {
   "cell_type": "code",
   "execution_count": 36,
   "metadata": {},
   "outputs": [],
   "source": [
    "def get_actual_cases(df):\n",
    "    actual_df = df[[\"CountryName\", \"RegionName\", \"Date\", \"ConfirmedCases\"]]\n",
    "    actual_df = actual_df[(actual_df.Date >= start_date) & (actual_df.Date <= end_date)]\n",
    "    actual_df['ActualDailyNewCases'] = actual_df.groupby('CountryName').ConfirmedCases.diff().fillna(0)\n",
    "    return actual_df"
   ]
  },
  {
   "cell_type": "code",
   "execution_count": 37,
   "metadata": {},
   "outputs": [],
   "source": [
    "actual_df = get_actual_cases(latest_df)"
   ]
  },
  {
   "cell_type": "code",
   "execution_count": 38,
   "metadata": {},
   "outputs": [
    {
     "data": {
      "text/html": [
       "<div>\n",
       "<style scoped>\n",
       "    .dataframe tbody tr th:only-of-type {\n",
       "        vertical-align: middle;\n",
       "    }\n",
       "\n",
       "    .dataframe tbody tr th {\n",
       "        vertical-align: top;\n",
       "    }\n",
       "\n",
       "    .dataframe thead th {\n",
       "        text-align: right;\n",
       "    }\n",
       "</style>\n",
       "<table border=\"1\" class=\"dataframe\">\n",
       "  <thead>\n",
       "    <tr style=\"text-align: right;\">\n",
       "      <th></th>\n",
       "      <th>CountryName</th>\n",
       "      <th>RegionName</th>\n",
       "      <th>Date</th>\n",
       "      <th>ConfirmedCases</th>\n",
       "      <th>ActualDailyNewCases</th>\n",
       "    </tr>\n",
       "  </thead>\n",
       "  <tbody>\n",
       "    <tr>\n",
       "      <th>213</th>\n",
       "      <td>Aruba</td>\n",
       "      <td></td>\n",
       "      <td>2020-08-01</td>\n",
       "      <td>121.0</td>\n",
       "      <td>0.0</td>\n",
       "    </tr>\n",
       "    <tr>\n",
       "      <th>214</th>\n",
       "      <td>Aruba</td>\n",
       "      <td></td>\n",
       "      <td>2020-08-02</td>\n",
       "      <td>121.0</td>\n",
       "      <td>0.0</td>\n",
       "    </tr>\n",
       "    <tr>\n",
       "      <th>215</th>\n",
       "      <td>Aruba</td>\n",
       "      <td></td>\n",
       "      <td>2020-08-03</td>\n",
       "      <td>122.0</td>\n",
       "      <td>1.0</td>\n",
       "    </tr>\n",
       "    <tr>\n",
       "      <th>216</th>\n",
       "      <td>Aruba</td>\n",
       "      <td></td>\n",
       "      <td>2020-08-04</td>\n",
       "      <td>124.0</td>\n",
       "      <td>2.0</td>\n",
       "    </tr>\n",
       "    <tr>\n",
       "      <th>454</th>\n",
       "      <td>Afghanistan</td>\n",
       "      <td></td>\n",
       "      <td>2020-08-01</td>\n",
       "      <td>36710.0</td>\n",
       "      <td>0.0</td>\n",
       "    </tr>\n",
       "  </tbody>\n",
       "</table>\n",
       "</div>"
      ],
      "text/plain": [
       "     CountryName RegionName       Date  ConfirmedCases  ActualDailyNewCases\n",
       "213        Aruba            2020-08-01           121.0                  0.0\n",
       "214        Aruba            2020-08-02           121.0                  0.0\n",
       "215        Aruba            2020-08-03           122.0                  1.0\n",
       "216        Aruba            2020-08-04           124.0                  2.0\n",
       "454  Afghanistan            2020-08-01         36710.0                  0.0"
      ]
     },
     "execution_count": 38,
     "metadata": {},
     "output_type": "execute_result"
    }
   ],
   "source": [
    "actual_df.head()"
   ]
  },
  {
   "cell_type": "markdown",
   "metadata": {},
   "source": [
    "# Get predictions from submissions"
   ]
  },
  {
   "cell_type": "code",
   "execution_count": 32,
   "metadata": {},
   "outputs": [],
   "source": [
    "def get_predictions_from_file(predictor_name, predictions_file):\n",
    "    preds_df = pd.read_csv(predictions_file,\n",
    "                           parse_dates=['Date'],\n",
    "                           encoding=\"ISO-8859-1\",\n",
    "                           error_bad_lines=False)\n",
    "    preds_df[\"PredictorName\"] = predictor_name\n",
    "    return preds_df"
   ]
  },
  {
   "cell_type": "code",
   "execution_count": 29,
   "metadata": {},
   "outputs": [],
   "source": [
    "def get_predictions_from_model():\n",
    "    pass"
   ]
  },
  {
   "cell_type": "code",
   "execution_count": 115,
   "metadata": {},
   "outputs": [],
   "source": [
    "predictions = {\"Predictor #27\": \"tests/fixtures/20200727_predictions.csv\",\n",
    "               \"Predictor #30\": \"tests/fixtures/20200730_predictions.csv\",\n",
    "               \"Predictor #31\": \"tests/fixtures/20200731_predictions.csv\",\n",
    "              }"
   ]
  },
  {
   "cell_type": "code",
   "execution_count": 114,
   "metadata": {},
   "outputs": [
    {
     "data": {
      "text/html": [
       "<div>\n",
       "<style scoped>\n",
       "    .dataframe tbody tr th:only-of-type {\n",
       "        vertical-align: middle;\n",
       "    }\n",
       "\n",
       "    .dataframe tbody tr th {\n",
       "        vertical-align: top;\n",
       "    }\n",
       "\n",
       "    .dataframe thead th {\n",
       "        text-align: right;\n",
       "    }\n",
       "</style>\n",
       "<table border=\"1\" class=\"dataframe\">\n",
       "  <thead>\n",
       "    <tr style=\"text-align: right;\">\n",
       "      <th></th>\n",
       "      <th>CountryName</th>\n",
       "      <th>Date</th>\n",
       "      <th>PredictedDailyNewCases</th>\n",
       "      <th>PredictorName</th>\n",
       "    </tr>\n",
       "  </thead>\n",
       "  <tbody>\n",
       "    <tr>\n",
       "      <th>0</th>\n",
       "      <td>Aruba</td>\n",
       "      <td>2020-08-01</td>\n",
       "      <td>0.789840</td>\n",
       "      <td>Predictor #27</td>\n",
       "    </tr>\n",
       "    <tr>\n",
       "      <th>1</th>\n",
       "      <td>Aruba</td>\n",
       "      <td>2020-08-02</td>\n",
       "      <td>0.857690</td>\n",
       "      <td>Predictor #27</td>\n",
       "    </tr>\n",
       "    <tr>\n",
       "      <th>2</th>\n",
       "      <td>Aruba</td>\n",
       "      <td>2020-08-03</td>\n",
       "      <td>0.000000</td>\n",
       "      <td>Predictor #27</td>\n",
       "    </tr>\n",
       "    <tr>\n",
       "      <th>3</th>\n",
       "      <td>Aruba</td>\n",
       "      <td>2020-08-04</td>\n",
       "      <td>0.000000</td>\n",
       "      <td>Predictor #27</td>\n",
       "    </tr>\n",
       "    <tr>\n",
       "      <th>4</th>\n",
       "      <td>Afghanistan</td>\n",
       "      <td>2020-08-01</td>\n",
       "      <td>73.132138</td>\n",
       "      <td>Predictor #27</td>\n",
       "    </tr>\n",
       "  </tbody>\n",
       "</table>\n",
       "</div>"
      ],
      "text/plain": [
       "   CountryName       Date  PredictedDailyNewCases  PredictorName\n",
       "0        Aruba 2020-08-01                0.789840  Predictor #27\n",
       "1        Aruba 2020-08-02                0.857690  Predictor #27\n",
       "2        Aruba 2020-08-03                0.000000  Predictor #27\n",
       "3        Aruba 2020-08-04                0.000000  Predictor #27\n",
       "4  Afghanistan 2020-08-01               73.132138  Predictor #27"
      ]
     },
     "execution_count": 114,
     "metadata": {},
     "output_type": "execute_result"
    }
   ],
   "source": [
    "get_predictions_from_file(\"Predictor #27\", \"tests/fixtures/20200727_predictions.csv\").head()"
   ]
  },
  {
   "cell_type": "code",
   "execution_count": 74,
   "metadata": {},
   "outputs": [
    {
     "data": {
      "text/html": [
       "<div>\n",
       "<style scoped>\n",
       "    .dataframe tbody tr th:only-of-type {\n",
       "        vertical-align: middle;\n",
       "    }\n",
       "\n",
       "    .dataframe tbody tr th {\n",
       "        vertical-align: top;\n",
       "    }\n",
       "\n",
       "    .dataframe thead th {\n",
       "        text-align: right;\n",
       "    }\n",
       "</style>\n",
       "<table border=\"1\" class=\"dataframe\">\n",
       "  <thead>\n",
       "    <tr style=\"text-align: right;\">\n",
       "      <th></th>\n",
       "      <th>CountryName</th>\n",
       "      <th>RegionName</th>\n",
       "      <th>Date</th>\n",
       "      <th>ConfirmedCases</th>\n",
       "      <th>ActualDailyNewCases</th>\n",
       "    </tr>\n",
       "  </thead>\n",
       "  <tbody>\n",
       "    <tr>\n",
       "      <th>213</th>\n",
       "      <td>Aruba</td>\n",
       "      <td></td>\n",
       "      <td>2020-08-01</td>\n",
       "      <td>121.0</td>\n",
       "      <td>0.0</td>\n",
       "    </tr>\n",
       "    <tr>\n",
       "      <th>214</th>\n",
       "      <td>Aruba</td>\n",
       "      <td></td>\n",
       "      <td>2020-08-02</td>\n",
       "      <td>121.0</td>\n",
       "      <td>0.0</td>\n",
       "    </tr>\n",
       "    <tr>\n",
       "      <th>215</th>\n",
       "      <td>Aruba</td>\n",
       "      <td></td>\n",
       "      <td>2020-08-03</td>\n",
       "      <td>122.0</td>\n",
       "      <td>1.0</td>\n",
       "    </tr>\n",
       "    <tr>\n",
       "      <th>216</th>\n",
       "      <td>Aruba</td>\n",
       "      <td></td>\n",
       "      <td>2020-08-04</td>\n",
       "      <td>124.0</td>\n",
       "      <td>2.0</td>\n",
       "    </tr>\n",
       "    <tr>\n",
       "      <th>454</th>\n",
       "      <td>Afghanistan</td>\n",
       "      <td></td>\n",
       "      <td>2020-08-01</td>\n",
       "      <td>36710.0</td>\n",
       "      <td>0.0</td>\n",
       "    </tr>\n",
       "  </tbody>\n",
       "</table>\n",
       "</div>"
      ],
      "text/plain": [
       "     CountryName RegionName       Date  ConfirmedCases  ActualDailyNewCases\n",
       "213        Aruba            2020-08-01           121.0                  0.0\n",
       "214        Aruba            2020-08-02           121.0                  0.0\n",
       "215        Aruba            2020-08-03           122.0                  1.0\n",
       "216        Aruba            2020-08-04           124.0                  2.0\n",
       "454  Afghanistan            2020-08-01         36710.0                  0.0"
      ]
     },
     "execution_count": 74,
     "metadata": {},
     "output_type": "execute_result"
    }
   ],
   "source": [
    "actual_df.head()"
   ]
  },
  {
   "cell_type": "code",
   "execution_count": 75,
   "metadata": {},
   "outputs": [],
   "source": [
    "ranking_df = pd.DataFrame()\n",
    "for predictor_name, predictions_file in predictions.items():\n",
    "    preds_df = get_predictions_from_file(predictor_name, predictions_file)\n",
    "    merged_df = actual_df.merge(preds_df, on=['CountryName', 'Date'], how='left')\n",
    "    ranking_df = ranking_df.append(merged_df)"
   ]
  },
  {
   "cell_type": "code",
   "execution_count": 76,
   "metadata": {},
   "outputs": [],
   "source": [
    "ranking_df['Diff'] = (ranking_df[\"ActualDailyNewCases\"] - ranking_df[\"PredictedDailyNewCases\"]).abs()"
   ]
  },
  {
   "cell_type": "code",
   "execution_count": 77,
   "metadata": {},
   "outputs": [],
   "source": [
    "ranking_df.sort_values(by=[\"CountryName\",\"RegionName\",\"Date\",\"Diff\"], inplace=True)"
   ]
  },
  {
   "cell_type": "code",
   "execution_count": 81,
   "metadata": {},
   "outputs": [
    {
     "data": {
      "text/html": [
       "<div>\n",
       "<style scoped>\n",
       "    .dataframe tbody tr th:only-of-type {\n",
       "        vertical-align: middle;\n",
       "    }\n",
       "\n",
       "    .dataframe tbody tr th {\n",
       "        vertical-align: top;\n",
       "    }\n",
       "\n",
       "    .dataframe thead th {\n",
       "        text-align: right;\n",
       "    }\n",
       "</style>\n",
       "<table border=\"1\" class=\"dataframe\">\n",
       "  <thead>\n",
       "    <tr style=\"text-align: right;\">\n",
       "      <th></th>\n",
       "      <th>CountryName</th>\n",
       "      <th>RegionName</th>\n",
       "      <th>Date</th>\n",
       "      <th>ConfirmedCases</th>\n",
       "      <th>ActualDailyNewCases</th>\n",
       "      <th>PredictedDailyNewCases</th>\n",
       "      <th>PredictorName</th>\n",
       "      <th>Diff</th>\n",
       "    </tr>\n",
       "  </thead>\n",
       "  <tbody>\n",
       "    <tr>\n",
       "      <th>4</th>\n",
       "      <td>Afghanistan</td>\n",
       "      <td></td>\n",
       "      <td>2020-08-01</td>\n",
       "      <td>36710.0</td>\n",
       "      <td>0.0</td>\n",
       "      <td>71.030063</td>\n",
       "      <td>Predictor #30</td>\n",
       "      <td>71.030063</td>\n",
       "    </tr>\n",
       "    <tr>\n",
       "      <th>4</th>\n",
       "      <td>Afghanistan</td>\n",
       "      <td></td>\n",
       "      <td>2020-08-01</td>\n",
       "      <td>36710.0</td>\n",
       "      <td>0.0</td>\n",
       "      <td>72.844680</td>\n",
       "      <td>Predictor #31</td>\n",
       "      <td>72.844680</td>\n",
       "    </tr>\n",
       "    <tr>\n",
       "      <th>4</th>\n",
       "      <td>Afghanistan</td>\n",
       "      <td></td>\n",
       "      <td>2020-08-01</td>\n",
       "      <td>36710.0</td>\n",
       "      <td>0.0</td>\n",
       "      <td>73.132138</td>\n",
       "      <td>Predictor #27</td>\n",
       "      <td>73.132138</td>\n",
       "    </tr>\n",
       "    <tr>\n",
       "      <th>5</th>\n",
       "      <td>Afghanistan</td>\n",
       "      <td></td>\n",
       "      <td>2020-08-02</td>\n",
       "      <td>36710.0</td>\n",
       "      <td>0.0</td>\n",
       "      <td>83.300741</td>\n",
       "      <td>Predictor #30</td>\n",
       "      <td>83.300741</td>\n",
       "    </tr>\n",
       "    <tr>\n",
       "      <th>5</th>\n",
       "      <td>Afghanistan</td>\n",
       "      <td></td>\n",
       "      <td>2020-08-02</td>\n",
       "      <td>36710.0</td>\n",
       "      <td>0.0</td>\n",
       "      <td>84.184771</td>\n",
       "      <td>Predictor #31</td>\n",
       "      <td>84.184771</td>\n",
       "    </tr>\n",
       "    <tr>\n",
       "      <th>5</th>\n",
       "      <td>Afghanistan</td>\n",
       "      <td></td>\n",
       "      <td>2020-08-02</td>\n",
       "      <td>36710.0</td>\n",
       "      <td>0.0</td>\n",
       "      <td>88.111154</td>\n",
       "      <td>Predictor #27</td>\n",
       "      <td>88.111154</td>\n",
       "    </tr>\n",
       "    <tr>\n",
       "      <th>6</th>\n",
       "      <td>Afghanistan</td>\n",
       "      <td></td>\n",
       "      <td>2020-08-03</td>\n",
       "      <td>36710.0</td>\n",
       "      <td>0.0</td>\n",
       "      <td>73.019972</td>\n",
       "      <td>Predictor #30</td>\n",
       "      <td>73.019972</td>\n",
       "    </tr>\n",
       "  </tbody>\n",
       "</table>\n",
       "</div>"
      ],
      "text/plain": [
       "   CountryName RegionName       Date  ConfirmedCases  ActualDailyNewCases  \\\n",
       "4  Afghanistan            2020-08-01         36710.0                  0.0   \n",
       "4  Afghanistan            2020-08-01         36710.0                  0.0   \n",
       "4  Afghanistan            2020-08-01         36710.0                  0.0   \n",
       "5  Afghanistan            2020-08-02         36710.0                  0.0   \n",
       "5  Afghanistan            2020-08-02         36710.0                  0.0   \n",
       "5  Afghanistan            2020-08-02         36710.0                  0.0   \n",
       "6  Afghanistan            2020-08-03         36710.0                  0.0   \n",
       "\n",
       "   PredictedDailyNewCases  PredictorName       Diff  \n",
       "4               71.030063  Predictor #30  71.030063  \n",
       "4               72.844680  Predictor #31  72.844680  \n",
       "4               73.132138  Predictor #27  73.132138  \n",
       "5               83.300741  Predictor #30  83.300741  \n",
       "5               84.184771  Predictor #31  84.184771  \n",
       "5               88.111154  Predictor #27  88.111154  \n",
       "6               73.019972  Predictor #30  73.019972  "
      ]
     },
     "execution_count": 81,
     "metadata": {},
     "output_type": "execute_result"
    }
   ],
   "source": [
    "ranking_df.head(7)"
   ]
  },
  {
   "cell_type": "code",
   "execution_count": 82,
   "metadata": {},
   "outputs": [
    {
     "data": {
      "text/html": [
       "<div>\n",
       "<style scoped>\n",
       "    .dataframe tbody tr th:only-of-type {\n",
       "        vertical-align: middle;\n",
       "    }\n",
       "\n",
       "    .dataframe tbody tr th {\n",
       "        vertical-align: top;\n",
       "    }\n",
       "\n",
       "    .dataframe thead th {\n",
       "        text-align: right;\n",
       "    }\n",
       "</style>\n",
       "<table border=\"1\" class=\"dataframe\">\n",
       "  <thead>\n",
       "    <tr style=\"text-align: right;\">\n",
       "      <th></th>\n",
       "      <th>CountryName</th>\n",
       "      <th>RegionName</th>\n",
       "      <th>Date</th>\n",
       "      <th>ConfirmedCases</th>\n",
       "      <th>ActualDailyNewCases</th>\n",
       "      <th>PredictedDailyNewCases</th>\n",
       "      <th>PredictorName</th>\n",
       "      <th>Diff</th>\n",
       "    </tr>\n",
       "  </thead>\n",
       "  <tbody>\n",
       "    <tr>\n",
       "      <th>716</th>\n",
       "      <td>United States</td>\n",
       "      <td></td>\n",
       "      <td>2020-08-01</td>\n",
       "      <td>4562037.0</td>\n",
       "      <td>0.0</td>\n",
       "      <td>75688.520235</td>\n",
       "      <td>Predictor #30</td>\n",
       "      <td>75688.520235</td>\n",
       "    </tr>\n",
       "    <tr>\n",
       "      <th>716</th>\n",
       "      <td>United States</td>\n",
       "      <td></td>\n",
       "      <td>2020-08-01</td>\n",
       "      <td>4562037.0</td>\n",
       "      <td>0.0</td>\n",
       "      <td>75965.313708</td>\n",
       "      <td>Predictor #31</td>\n",
       "      <td>75965.313708</td>\n",
       "    </tr>\n",
       "    <tr>\n",
       "      <th>716</th>\n",
       "      <td>United States</td>\n",
       "      <td></td>\n",
       "      <td>2020-08-01</td>\n",
       "      <td>4562037.0</td>\n",
       "      <td>0.0</td>\n",
       "      <td>77886.825161</td>\n",
       "      <td>Predictor #27</td>\n",
       "      <td>77886.825161</td>\n",
       "    </tr>\n",
       "  </tbody>\n",
       "</table>\n",
       "</div>"
      ],
      "text/plain": [
       "       CountryName RegionName       Date  ConfirmedCases  ActualDailyNewCases  \\\n",
       "716  United States            2020-08-01       4562037.0                  0.0   \n",
       "716  United States            2020-08-01       4562037.0                  0.0   \n",
       "716  United States            2020-08-01       4562037.0                  0.0   \n",
       "\n",
       "     PredictedDailyNewCases  PredictorName          Diff  \n",
       "716            75688.520235  Predictor #30  75688.520235  \n",
       "716            75965.313708  Predictor #31  75965.313708  \n",
       "716            77886.825161  Predictor #27  77886.825161  "
      ]
     },
     "execution_count": 82,
     "metadata": {},
     "output_type": "execute_result"
    }
   ],
   "source": [
    "ranking_df[(ranking_df.CountryName == \"United States\") &\n",
    "           (ranking_df.Date == '2020-08-01')]"
   ]
  },
  {
   "cell_type": "code",
   "execution_count": 87,
   "metadata": {},
   "outputs": [],
   "source": [
    "# Save to file\n",
    "# ranking_df.to_csv(\"/Users/m_754337/workspace/esp-demo/xprize/tests/fixtures/ranking.csv\", index=False)"
   ]
  },
  {
   "cell_type": "markdown",
   "metadata": {},
   "source": [
    "# Ranking"
   ]
  },
  {
   "cell_type": "markdown",
   "metadata": {},
   "source": [
    "## Global"
   ]
  },
  {
   "cell_type": "code",
   "execution_count": 84,
   "metadata": {},
   "outputs": [
    {
     "data": {
      "text/plain": [
       "PredictorName\n",
       "Predictor #30    538846.017275\n",
       "Predictor #31    543817.409773\n",
       "Predictor #27    580506.131360\n",
       "Name: Diff, dtype: float64"
      ]
     },
     "execution_count": 84,
     "metadata": {},
     "output_type": "execute_result"
    }
   ],
   "source": [
    "ranking_df.groupby('PredictorName').Diff.sum().sort_values()"
   ]
  },
  {
   "cell_type": "markdown",
   "metadata": {},
   "source": [
    "## Countries"
   ]
  },
  {
   "cell_type": "code",
   "execution_count": 102,
   "metadata": {},
   "outputs": [],
   "source": [
    "countries_ranking_df = ranking_df.groupby(['CountryName', 'PredictorName'])[[\"CountryName\", \"PredictorName\", \"Diff\"]].sum().sort_values(by=[\"CountryName\", \"Diff\"])"
   ]
  },
  {
   "cell_type": "code",
   "execution_count": 108,
   "metadata": {},
   "outputs": [
    {
     "data": {
      "text/html": [
       "<div>\n",
       "<style scoped>\n",
       "    .dataframe tbody tr th:only-of-type {\n",
       "        vertical-align: middle;\n",
       "    }\n",
       "\n",
       "    .dataframe tbody tr th {\n",
       "        vertical-align: top;\n",
       "    }\n",
       "\n",
       "    .dataframe thead th {\n",
       "        text-align: right;\n",
       "    }\n",
       "</style>\n",
       "<table border=\"1\" class=\"dataframe\">\n",
       "  <thead>\n",
       "    <tr style=\"text-align: right;\">\n",
       "      <th></th>\n",
       "      <th></th>\n",
       "      <th>Diff</th>\n",
       "    </tr>\n",
       "    <tr>\n",
       "      <th>CountryName</th>\n",
       "      <th>PredictorName</th>\n",
       "      <th></th>\n",
       "    </tr>\n",
       "  </thead>\n",
       "  <tbody>\n",
       "    <tr>\n",
       "      <th rowspan=\"3\" valign=\"top\">Afghanistan</th>\n",
       "      <th>Predictor #30</th>\n",
       "      <td>269.016505</td>\n",
       "    </tr>\n",
       "    <tr>\n",
       "      <th>Predictor #31</th>\n",
       "      <td>276.695271</td>\n",
       "    </tr>\n",
       "    <tr>\n",
       "      <th>Predictor #27</th>\n",
       "      <td>282.474691</td>\n",
       "    </tr>\n",
       "    <tr>\n",
       "      <th rowspan=\"3\" valign=\"top\">Albania</th>\n",
       "      <th>Predictor #30</th>\n",
       "      <td>200.881096</td>\n",
       "    </tr>\n",
       "    <tr>\n",
       "      <th>Predictor #31</th>\n",
       "      <td>203.352445</td>\n",
       "    </tr>\n",
       "    <tr>\n",
       "      <th>Predictor #27</th>\n",
       "      <td>211.087547</td>\n",
       "    </tr>\n",
       "    <tr>\n",
       "      <th rowspan=\"3\" valign=\"top\">Algeria</th>\n",
       "      <th>Predictor #30</th>\n",
       "      <td>1003.766848</td>\n",
       "    </tr>\n",
       "    <tr>\n",
       "      <th>Predictor #31</th>\n",
       "      <td>1024.419959</td>\n",
       "    </tr>\n",
       "    <tr>\n",
       "      <th>Predictor #27</th>\n",
       "      <td>1110.465449</td>\n",
       "    </tr>\n",
       "    <tr>\n",
       "      <th rowspan=\"3\" valign=\"top\">Andorra</th>\n",
       "      <th>Predictor #31</th>\n",
       "      <td>22.802686</td>\n",
       "    </tr>\n",
       "    <tr>\n",
       "      <th>Predictor #30</th>\n",
       "      <td>24.512086</td>\n",
       "    </tr>\n",
       "    <tr>\n",
       "      <th>Predictor #27</th>\n",
       "      <td>25.936967</td>\n",
       "    </tr>\n",
       "  </tbody>\n",
       "</table>\n",
       "</div>"
      ],
      "text/plain": [
       "                                  Diff\n",
       "CountryName PredictorName             \n",
       "Afghanistan Predictor #30   269.016505\n",
       "            Predictor #31   276.695271\n",
       "            Predictor #27   282.474691\n",
       "Albania     Predictor #30   200.881096\n",
       "            Predictor #31   203.352445\n",
       "            Predictor #27   211.087547\n",
       "Algeria     Predictor #30  1003.766848\n",
       "            Predictor #31  1024.419959\n",
       "            Predictor #27  1110.465449\n",
       "Andorra     Predictor #31    22.802686\n",
       "            Predictor #30    24.512086\n",
       "            Predictor #27    25.936967"
      ]
     },
     "execution_count": 108,
     "metadata": {},
     "output_type": "execute_result"
    }
   ],
   "source": [
    "countries_ranking_df.head(12)"
   ]
  },
  {
   "cell_type": "markdown",
   "metadata": {},
   "source": [
    "## Specific country"
   ]
  },
  {
   "cell_type": "code",
   "execution_count": 88,
   "metadata": {},
   "outputs": [],
   "source": [
    "country = \"United States\""
   ]
  },
  {
   "cell_type": "code",
   "execution_count": 90,
   "metadata": {},
   "outputs": [
    {
     "data": {
      "text/plain": [
       "PredictorName\n",
       "Predictor #30     93012.326626\n",
       "Predictor #31     95197.295834\n",
       "Predictor #27    102601.571423\n",
       "Name: Diff, dtype: float64"
      ]
     },
     "execution_count": 90,
     "metadata": {},
     "output_type": "execute_result"
    }
   ],
   "source": [
    "ranking_df[ranking_df.CountryName == country].groupby('PredictorName').Diff.sum().sort_values()"
   ]
  },
  {
   "cell_type": "code",
   "execution_count": 106,
   "metadata": {},
   "outputs": [],
   "source": [
    "cr_df = countries_ranking_df.reset_index()"
   ]
  },
  {
   "cell_type": "code",
   "execution_count": 107,
   "metadata": {},
   "outputs": [
    {
     "data": {
      "text/html": [
       "<div>\n",
       "<style scoped>\n",
       "    .dataframe tbody tr th:only-of-type {\n",
       "        vertical-align: middle;\n",
       "    }\n",
       "\n",
       "    .dataframe tbody tr th {\n",
       "        vertical-align: top;\n",
       "    }\n",
       "\n",
       "    .dataframe thead th {\n",
       "        text-align: right;\n",
       "    }\n",
       "</style>\n",
       "<table border=\"1\" class=\"dataframe\">\n",
       "  <thead>\n",
       "    <tr style=\"text-align: right;\">\n",
       "      <th></th>\n",
       "      <th>CountryName</th>\n",
       "      <th>PredictorName</th>\n",
       "      <th>Diff</th>\n",
       "    </tr>\n",
       "  </thead>\n",
       "  <tbody>\n",
       "    <tr>\n",
       "      <th>129</th>\n",
       "      <td>France</td>\n",
       "      <td>Predictor #30</td>\n",
       "      <td>2396.493863</td>\n",
       "    </tr>\n",
       "    <tr>\n",
       "      <th>130</th>\n",
       "      <td>France</td>\n",
       "      <td>Predictor #31</td>\n",
       "      <td>2432.556056</td>\n",
       "    </tr>\n",
       "    <tr>\n",
       "      <th>131</th>\n",
       "      <td>France</td>\n",
       "      <td>Predictor #27</td>\n",
       "      <td>2521.886334</td>\n",
       "    </tr>\n",
       "  </tbody>\n",
       "</table>\n",
       "</div>"
      ],
      "text/plain": [
       "    CountryName  PredictorName         Diff\n",
       "129      France  Predictor #30  2396.493863\n",
       "130      France  Predictor #31  2432.556056\n",
       "131      France  Predictor #27  2521.886334"
      ]
     },
     "execution_count": 107,
     "metadata": {},
     "output_type": "execute_result"
    }
   ],
   "source": [
    "cr_df[cr_df.CountryName == \"France\"]"
   ]
  },
  {
   "cell_type": "markdown",
   "metadata": {},
   "source": [
    "## Continent"
   ]
  },
  {
   "cell_type": "code",
   "execution_count": 109,
   "metadata": {},
   "outputs": [],
   "source": [
    "NORTH_AMERICA = [\"Canada\", \"United States\", \"Mexico\"]"
   ]
  },
  {
   "cell_type": "code",
   "execution_count": 111,
   "metadata": {},
   "outputs": [
    {
     "data": {
      "text/plain": [
       "PredictorName\n",
       "Predictor #30    105175.948707\n",
       "Predictor #31    107569.625580\n",
       "Predictor #27    115495.464296\n",
       "Name: Diff, dtype: float64"
      ]
     },
     "execution_count": 111,
     "metadata": {},
     "output_type": "execute_result"
    }
   ],
   "source": [
    "ranking_df[ranking_df.CountryName.isin(NORTH_AMERICA)].groupby('PredictorName').Diff.sum().sort_values()"
   ]
  },
  {
   "cell_type": "code",
   "execution_count": null,
   "metadata": {},
   "outputs": [],
   "source": []
  }
 ],
 "metadata": {
  "kernelspec": {
   "display_name": "Python 3",
   "language": "python",
   "name": "python3"
  },
  "language_info": {
   "codemirror_mode": {
    "name": "ipython",
    "version": 3
   },
   "file_extension": ".py",
   "mimetype": "text/x-python",
   "name": "python",
   "nbconvert_exporter": "python",
   "pygments_lexer": "ipython3",
   "version": "3.7.2"
  }
 },
 "nbformat": 4,
 "nbformat_minor": 4
}
